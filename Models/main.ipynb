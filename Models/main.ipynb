{
 "cells": [
  {
   "cell_type": "code",
   "execution_count": 1,
   "metadata": {},
   "outputs": [],
   "source": [
    "from Pipeline_2 import Pipeline"
   ]
  },
  {
   "cell_type": "code",
   "execution_count": 2,
   "metadata": {},
   "outputs": [
    {
     "name": "stdout",
     "output_type": "stream",
     "text": [
      "Dropped 'Unnamed: 0' column\n",
      "Started analysing models with file: train_rdkit_morgan_smote.csv\n",
      " 1/2. Finished model XGBoost with dataset train_rdkit_morgan_smote.csv, AUC_ROC: 0.9313, spended time: 6.95 sec\n",
      " 2/2. Finished model LightGBM with dataset train_rdkit_morgan_smote.csv, AUC_ROC: 0.9308, spended time: 4.01 sec\n",
      "Started analysing models with file: train_rdkit_smote.csv\n",
      " 1/2. Finished model XGBoost with dataset train_rdkit_smote.csv, AUC_ROC: 0.9307, spended time: 3.34 sec\n",
      " 2/2. Finished model LightGBM with dataset train_rdkit_smote.csv, AUC_ROC: 0.9312, spended time: 2.15 sec\n",
      "Лучший результат (0.9313,), на датасете: c:\\Users\\User\\OneDrive\\Документы\\Python\\Hackatone\\database\\train_rdkit_morgan_smote.csv, на модели XGBoost\n",
      "{'Model': 'XGBoost', 'Dataset': 'c:\\\\Users\\\\User\\\\OneDrive\\\\Документы\\\\Python\\\\Hackatone\\\\database\\\\train_rdkit_morgan_smote.csv'}\n"
     ]
    }
   ],
   "source": [
    "pipe = Pipeline()\n",
    "print(pipe.get_best_conditions(['c:\\\\Users\\\\User\\\\OneDrive\\\\Документы\\\\Python\\\\Hackatone\\\\database\\\\train_rdkit_morgan_smote.csv',\n",
    "                                'c:\\\\Users\\\\User\\\\OneDrive\\\\Документы\\\\Python\\\\Hackatone\\\\database\\\\train_rdkit_smote.csv']))"
   ]
  }
 ],
 "metadata": {
  "kernelspec": {
   "display_name": ".venv",
   "language": "python",
   "name": "python3"
  },
  "language_info": {
   "codemirror_mode": {
    "name": "ipython",
    "version": 3
   },
   "file_extension": ".py",
   "mimetype": "text/x-python",
   "name": "python",
   "nbconvert_exporter": "python",
   "pygments_lexer": "ipython3",
   "version": "3.12.2"
  }
 },
 "nbformat": 4,
 "nbformat_minor": 2
}
