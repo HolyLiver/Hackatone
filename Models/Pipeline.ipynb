{
 "cells": [
  {
   "cell_type": "code",
   "execution_count": 2,
   "metadata": {},
   "outputs": [],
   "source": [
    "import numpy as np\n",
    "import pandas as pd\n",
    "\n",
    "#Service modules\n",
    "import timeit\n",
    "import inspect, os\n",
    "\n",
    "#Import tools to work with data\n",
    "from sklearn.model_selection import train_test_split\n",
    "from sklearn.preprocessing import StandardScaler\n",
    "\n",
    "#Importing metrics \n",
    "from sklearn.metrics import roc_auc_score\n",
    "\n",
    "# Importing ML models \n",
    "from catboost import CatBoostClassifier\n",
    "import xgboost as xgb\n",
    "from xgboost import XGBClassifier\n",
    "from sklearn.ensemble import RandomForestClassifier\n",
    "from sklearn.ensemble import ExtraTreesClassifier\n",
    "from sklearn.ensemble import GradientBoostingClassifier\n",
    "from lightgbm import LGBMClassifier"
   ]
  },
  {
   "cell_type": "code",
   "execution_count": 144,
   "metadata": {},
   "outputs": [],
   "source": [
    "file_path = os.getcwd()\n",
    "dir_name = os.path.split(file_path)[0]"
   ]
  },
  {
   "cell_type": "code",
   "execution_count": 147,
   "metadata": {},
   "outputs": [],
   "source": [
    "FCh_MoFP_path = f\"{dir_name}\\\\database\\\\train_rdkit_morgan_smote.csv\"\n",
    "FCh_path = f\"{dir_name}\\\\database\\\\train_rdkit_smote.csv\""
   ]
  },
  {
   "cell_type": "code",
   "execution_count": 3,
   "metadata": {},
   "outputs": [],
   "source": [
    "df_train_FCh_descr = pd.read_csv(FCh_path)\n",
    "df_train_FCh_MoFP_descr = pd.read_csv(FCh_MoFP_path, index_col=0)"
   ]
  },
  {
   "cell_type": "code",
   "execution_count": 4,
   "metadata": {},
   "outputs": [],
   "source": [
    "models = {\"XGBoost\":XGBClassifier(random_state=42), \n",
    "          \"GradientBoosting\": GradientBoostingClassifier(random_state=42), \n",
    "          \"RandomForest\": RandomForestClassifier(random_state=42), \n",
    "          \"ExtraTrees\": ExtraTreesClassifier(), \n",
    "          \"LightGBM\": LGBMClassifier(verbosity=-1, random_state=42), \n",
    "          \"CatBoost\": CatBoostClassifier(silent=True, random_state=42)\n",
    "        }"
   ]
  },
  {
   "cell_type": "code",
   "execution_count": 5,
   "metadata": {},
   "outputs": [],
   "source": [
    "x_FCh_MoFP = df_train_FCh_MoFP_descr.drop([\"Y\"], axis=1).copy()\n",
    "y_FCh_MoFP = df_train_FCh_MoFP_descr[\"Y\"].copy()\n",
    "\n",
    "x_FCh = df_train_FCh_descr.drop([\"Y\"], axis=1).copy()\n",
    "y_FCh = df_train_FCh_descr[\"Y\"].copy()\n"
   ]
  },
  {
   "cell_type": "code",
   "execution_count": null,
   "metadata": {},
   "outputs": [],
   "source": [
    "datas = {\"Phys-chem and Morgan desc\": {\"X\": x_FCh_MoFP, \"y\": y_FCh_MoFP, \"file\": FCh_MoFP_path}, \n",
    "         \"Phys-chem desc\": {\"X\": x_FCh, \"y\": y_FCh, \"file\": FCh_path}}"
   ]
  },
  {
   "cell_type": "code",
   "execution_count": 7,
   "metadata": {},
   "outputs": [
    {
     "name": "stdout",
     "output_type": "stream",
     "text": [
      " 1/12. Finished model XGBoost with dataset Phys-chem and Morgan desc, AUC_ROC: 0.9313, spended time: 8.05 sec\n",
      " 2/12. Finished model GradientBoosting with dataset Phys-chem and Morgan desc, AUC_ROC: 0.9121, spended time: 52.23 sec\n",
      " 3/12. Finished model RandomForest with dataset Phys-chem and Morgan desc, AUC_ROC: 0.9321, spended time: 8.36 sec\n",
      " 4/12. Finished model ExtraTrees with dataset Phys-chem and Morgan desc, AUC_ROC: 0.9315, spended time: 10.0 sec\n",
      " 5/12. Finished model LightGBM with dataset Phys-chem and Morgan desc, AUC_ROC: 0.9308, spended time: 3.92 sec\n",
      " 6/12. Finished model CatBoost with dataset Phys-chem and Morgan desc, AUC_ROC: 0.9318, spended time: 62.18 sec\n",
      " 7/12. Finished model XGBoost with dataset Phys-chem desc, AUC_ROC: 0.9307, spended time: 2.99 sec\n",
      " 8/12. Finished model GradientBoosting with dataset Phys-chem desc, AUC_ROC: 0.909, spended time: 35.53 sec\n",
      " 9/12. Finished model RandomForest with dataset Phys-chem desc, AUC_ROC: 0.932, spended time: 7.7 sec\n",
      " 10/12. Finished model ExtraTrees with dataset Phys-chem desc, AUC_ROC: 0.9317, spended time: 3.18 sec\n",
      " 11/12. Finished model LightGBM with dataset Phys-chem desc, AUC_ROC: 0.9312, spended time: 1.88 sec\n",
      " 12/12. Finished model CatBoost with dataset Phys-chem desc, AUC_ROC: 0.9338, spended time: 30.51 sec\n"
     ]
    }
   ],
   "source": [
    "results = list()\n",
    "count = 0\n",
    "data_num = len(datas.keys())\n",
    "model_num = len(models.keys())\n",
    "for data_name, X_y in datas.items():\n",
    "    scaler = StandardScaler()\n",
    "    X_y[\"X\"] = pd.DataFrame(scaler.fit_transform(X_y[\"X\"]), columns=X_y[\"X\"].columns)\n",
    "    X_train, X_test, y_train, y_test = train_test_split(X_y[\"X\"], X_y[\"y\"], test_size=0.2, random_state=42)\n",
    "    model_res = list()\n",
    "    for name, model in models.items():\n",
    "        mod = model\n",
    "        start = timeit.default_timer()\n",
    "        mod.fit(X_train, y_train)\n",
    "        y_pred = model.predict_proba(X_test)[:, 1]\n",
    "        auc_roc = round(roc_auc_score(y_test, y_pred), 4)\n",
    "        stop = timeit.default_timer()\n",
    "        time = round(stop-start, 3)\n",
    "        model_res.extend([auc_roc, time])\n",
    "        count += 1\n",
    "        print(f\" {count}/{data_num*model_num}. Finished model {name} with dataset {data_name}, AUC_ROC: {round(auc_roc, 5)}, spended time: {round(stop-start, 2)} sec\")\n",
    "    results.append(model_res)"
   ]
  },
  {
   "cell_type": "code",
   "execution_count": 8,
   "metadata": {},
   "outputs": [],
   "source": [
    "tup = list()\n",
    "for name, model in models.items():\n",
    "    tup.append(tuple([name, \"AUC-ROC\"]))\n",
    "    tup.append(tuple([name, \"sec\"]))\n",
    "column_index = pd.MultiIndex.from_tuples(tup)"
   ]
  },
  {
   "cell_type": "code",
   "execution_count": 94,
   "metadata": {},
   "outputs": [
    {
     "data": {
      "text/html": [
       "<div>\n",
       "<style scoped>\n",
       "    .dataframe tbody tr th:only-of-type {\n",
       "        vertical-align: middle;\n",
       "    }\n",
       "\n",
       "    .dataframe tbody tr th {\n",
       "        vertical-align: top;\n",
       "    }\n",
       "\n",
       "    .dataframe thead tr th {\n",
       "        text-align: left;\n",
       "    }\n",
       "\n",
       "    .dataframe thead tr:last-of-type th {\n",
       "        text-align: right;\n",
       "    }\n",
       "</style>\n",
       "<table border=\"1\" class=\"dataframe\">\n",
       "  <thead>\n",
       "    <tr>\n",
       "      <th></th>\n",
       "      <th colspan=\"2\" halign=\"left\">XGBoost</th>\n",
       "      <th colspan=\"2\" halign=\"left\">GradientBoosting</th>\n",
       "      <th colspan=\"2\" halign=\"left\">RandomForest</th>\n",
       "      <th colspan=\"2\" halign=\"left\">ExtraTrees</th>\n",
       "      <th colspan=\"2\" halign=\"left\">LightGBM</th>\n",
       "      <th colspan=\"2\" halign=\"left\">CatBoost</th>\n",
       "    </tr>\n",
       "    <tr>\n",
       "      <th></th>\n",
       "      <th>AUC-ROC</th>\n",
       "      <th>sec</th>\n",
       "      <th>AUC-ROC</th>\n",
       "      <th>sec</th>\n",
       "      <th>AUC-ROC</th>\n",
       "      <th>sec</th>\n",
       "      <th>AUC-ROC</th>\n",
       "      <th>sec</th>\n",
       "      <th>AUC-ROC</th>\n",
       "      <th>sec</th>\n",
       "      <th>AUC-ROC</th>\n",
       "      <th>sec</th>\n",
       "    </tr>\n",
       "    <tr>\n",
       "      <th>Descriptors</th>\n",
       "      <th></th>\n",
       "      <th></th>\n",
       "      <th></th>\n",
       "      <th></th>\n",
       "      <th></th>\n",
       "      <th></th>\n",
       "      <th></th>\n",
       "      <th></th>\n",
       "      <th></th>\n",
       "      <th></th>\n",
       "      <th></th>\n",
       "      <th></th>\n",
       "    </tr>\n",
       "  </thead>\n",
       "  <tbody>\n",
       "    <tr>\n",
       "      <th>Phys-chem and Morgan desc</th>\n",
       "      <td>0.9313</td>\n",
       "      <td>8.051</td>\n",
       "      <td>0.9121</td>\n",
       "      <td>52.232</td>\n",
       "      <td>0.9321</td>\n",
       "      <td>8.358</td>\n",
       "      <td>0.9315</td>\n",
       "      <td>10.002</td>\n",
       "      <td>0.9308</td>\n",
       "      <td>3.917</td>\n",
       "      <td>0.9318</td>\n",
       "      <td>62.178</td>\n",
       "    </tr>\n",
       "    <tr>\n",
       "      <th>Phys-chem desc</th>\n",
       "      <td>0.9307</td>\n",
       "      <td>2.987</td>\n",
       "      <td>0.9090</td>\n",
       "      <td>35.531</td>\n",
       "      <td>0.9320</td>\n",
       "      <td>7.698</td>\n",
       "      <td>0.9317</td>\n",
       "      <td>3.181</td>\n",
       "      <td>0.9312</td>\n",
       "      <td>1.879</td>\n",
       "      <td>0.9338</td>\n",
       "      <td>30.509</td>\n",
       "    </tr>\n",
       "  </tbody>\n",
       "</table>\n",
       "</div>"
      ],
      "text/plain": [
       "                          XGBoost        GradientBoosting          \\\n",
       "                          AUC-ROC    sec          AUC-ROC     sec   \n",
       "Descriptors                                                         \n",
       "Phys-chem and Morgan desc  0.9313  8.051           0.9121  52.232   \n",
       "Phys-chem desc             0.9307  2.987           0.9090  35.531   \n",
       "\n",
       "                          RandomForest        ExtraTrees         LightGBM  \\\n",
       "                               AUC-ROC    sec    AUC-ROC     sec  AUC-ROC   \n",
       "Descriptors                                                                 \n",
       "Phys-chem and Morgan desc       0.9321  8.358     0.9315  10.002   0.9308   \n",
       "Phys-chem desc                  0.9320  7.698     0.9317   3.181   0.9312   \n",
       "\n",
       "                                 CatBoost          \n",
       "                             sec  AUC-ROC     sec  \n",
       "Descriptors                                        \n",
       "Phys-chem and Morgan desc  3.917   0.9318  62.178  \n",
       "Phys-chem desc             1.879   0.9338  30.509  "
      ]
     },
     "execution_count": 94,
     "metadata": {},
     "output_type": "execute_result"
    }
   ],
   "source": [
    "model_comper = pd.DataFrame(results, columns=column_index)\n",
    "model_comper[\"Descriptors\"] = datas.keys()\n",
    "model_comper.set_index(\"Descriptors\")"
   ]
  },
  {
   "cell_type": "code",
   "execution_count": 61,
   "metadata": {},
   "outputs": [],
   "source": [
    "model_AUC_ROC = model_comper.iloc[:, model_comper.columns.get_level_values(1)== \"AUC-ROC\"].droplevel(level=1, axis=1).copy()"
   ]
  },
  {
   "cell_type": "code",
   "execution_count": 82,
   "metadata": {},
   "outputs": [],
   "source": [
    "max_model = model_AUC_ROC.max().idxmax()\n",
    "max_file = model_AUC_ROC[max_model].idxmax()\n",
    "AUC_ROC_max = model_AUC_ROC.loc[max_file, max_model]"
   ]
  },
  {
   "cell_type": "code",
   "execution_count": 95,
   "metadata": {},
   "outputs": [
    {
     "data": {
      "text/plain": [
       "'Phys-chem desc'"
      ]
     },
     "execution_count": 95,
     "metadata": {},
     "output_type": "execute_result"
    }
   ],
   "source": [
    "file = list(model_comper[\"Descriptors\"])[max_file]\n",
    "file"
   ]
  },
  {
   "cell_type": "code",
   "execution_count": 99,
   "metadata": {},
   "outputs": [],
   "source": [
    "path = datas[file][\"file\"]"
   ]
  },
  {
   "cell_type": "code",
   "execution_count": 110,
   "metadata": {},
   "outputs": [
    {
     "name": "stdout",
     "output_type": "stream",
     "text": [
      "Максиммальное значение: 0.9338,\n",
      "датасет с названием Phys-chem desc,\n",
      "с путём 'C:/Users/User/OneDrive/Документы/Python/Hackatone/database/train_rdkit_morgan_smote.csv'\n"
     ]
    }
   ],
   "source": [
    "print(f\"Максиммальное значение: {AUC_ROC_max},\\nдатасет с названием {file},\\nс путём '{path}'\")"
   ]
  }
 ],
 "metadata": {
  "kernelspec": {
   "display_name": ".venv",
   "language": "python",
   "name": "python3"
  },
  "language_info": {
   "codemirror_mode": {
    "name": "ipython",
    "version": 3
   },
   "file_extension": ".py",
   "mimetype": "text/x-python",
   "name": "python",
   "nbconvert_exporter": "python",
   "pygments_lexer": "ipython3",
   "version": "3.12.2"
  }
 },
 "nbformat": 4,
 "nbformat_minor": 2
}
