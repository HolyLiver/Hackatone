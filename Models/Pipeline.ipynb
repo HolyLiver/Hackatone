{
 "cells": [
  {
   "cell_type": "code",
   "execution_count": 153,
   "metadata": {},
   "outputs": [],
   "source": [
    "import numpy as np\n",
    "import pandas as pd\n",
    "\n",
    "#Import tools to work with data\n",
    "from sklearn.model_selection import train_test_split\n",
    "from sklearn.preprocessing import StandardScaler\n",
    "\n",
    "#Importing metrics \n",
    "from sklearn.metrics import roc_auc_score\n",
    "\n",
    "# Importing ML models \n",
    "from catboost import CatBoostClassifier\n",
    "import xgboost as xgb\n",
    "from xgboost import XGBClassifier\n",
    "from sklearn.ensemble import RandomForestClassifier\n",
    "from sklearn.ensemble import ExtraTreesClassifier\n"
   ]
  },
  {
   "cell_type": "code",
   "execution_count": 154,
   "metadata": {},
   "outputs": [],
   "source": [
    "df_train_FCh_descr = pd.read_csv(\"C:/Users/User/OneDrive/Документы/Python/Hackatone/database/train_rdkit_smote.csv\")\n",
    "# df_train_MoFP_descr = pd.read_csv()\n",
    "df_train_FCh_MoFP_descr = pd.read_csv(\"C:/Users/User/OneDrive/Документы/Python/Hackatone/database/train_rdkit_morgan_smote.csv\", index_col=0)"
   ]
  },
  {
   "cell_type": "code",
   "execution_count": 155,
   "metadata": {},
   "outputs": [],
   "source": [
    "models = {\"XGBoost\":XGBClassifier(), \"RandomForest\": RandomForestClassifier(), \"ExtraTrees\": ExtraTreesClassifier(), \"CatBoost\": CatBoostClassifier(silent=True)}"
   ]
  },
  {
   "cell_type": "code",
   "execution_count": 156,
   "metadata": {},
   "outputs": [],
   "source": [
    "x_FCh_MoFP = df_train_FCh_MoFP_descr.drop([\"Y\"], axis=1).copy()\n",
    "y_FCh_MoFP = df_train_FCh_MoFP_descr[\"Y\"].copy()\n",
    "\n",
    "x_FCh = df_train_FCh_descr.drop([\"Y\"], axis=1).copy()\n",
    "y_FCh = df_train_FCh_descr[\"Y\"].copy()\n"
   ]
  },
  {
   "cell_type": "code",
   "execution_count": 157,
   "metadata": {},
   "outputs": [
    {
     "data": {
      "text/plain": [
       "0        1\n",
       "1        0\n",
       "2        1\n",
       "3        1\n",
       "4        1\n",
       "        ..\n",
       "10151    0\n",
       "10152    0\n",
       "10153    0\n",
       "10154    0\n",
       "10155    0\n",
       "Name: Y, Length: 10156, dtype: int64"
      ]
     },
     "execution_count": 157,
     "metadata": {},
     "output_type": "execute_result"
    }
   ],
   "source": [
    "df_train_FCh_MoFP_descr[\"Y\"]"
   ]
  },
  {
   "cell_type": "code",
   "execution_count": 158,
   "metadata": {},
   "outputs": [],
   "source": [
    "datas = {\"FCh_MoFP\": {\"X\": x_FCh_MoFP, \"y\": y_FCh_MoFP}, \"FCh\": {\"X\": x_FCh, \"y\": y_FCh}}"
   ]
  },
  {
   "cell_type": "code",
   "execution_count": 159,
   "metadata": {},
   "outputs": [],
   "source": [
    "# model = RandomForestClassifier()\n",
    "# scaler = StandardScaler()\n",
    "# x_FCh_MoFP_sc = scaler.fit_transform(x_FCh_MoFP)\n",
    "# x_FCh_MoFP = pd.DataFrame(x_FCh_MoFP_sc, columns=x_FCh_MoFP.columns)\n",
    "# X_train, X_test, y_train, y_test = train_test_split(x_FCh_MoFP, y_FCh_MoFP, test_size=0.2, random_state=42)\n",
    "# model.fit(X_train, y_train)"
   ]
  },
  {
   "cell_type": "code",
   "execution_count": 160,
   "metadata": {},
   "outputs": [],
   "source": [
    "results = list()"
   ]
  },
  {
   "cell_type": "code",
   "execution_count": 163,
   "metadata": {},
   "outputs": [
    {
     "name": "stdout",
     "output_type": "stream",
     "text": [
      "Finished model XGBoost with dataset FCh_MoFP, AUC_ROC: 0.9313006534997843\n",
      "Finished model RandomForest with dataset FCh_MoFP, AUC_ROC: 0.9327665470117765\n",
      "Finished model ExtraTrees with dataset FCh_MoFP, AUC_ROC: 0.9317482693639882\n",
      "Finished model CatBoost with dataset FCh_MoFP, AUC_ROC: 0.931588406555344\n",
      "Finished model XGBoost with dataset FCh, AUC_ROC: 0.9306737975167977\n",
      "Finished model RandomForest with dataset FCh, AUC_ROC: 0.9333066895318927\n",
      "Finished model ExtraTrees with dataset FCh, AUC_ROC: 0.9304214080522413\n",
      "Finished model CatBoost with dataset FCh, AUC_ROC: 0.9346519592882714\n"
     ]
    }
   ],
   "source": [
    "for data_name, X_y in datas.items():\n",
    "    scaler = StandardScaler()\n",
    "    X_y[\"X\"] = pd.DataFrame(scaler.fit_transform(X_y[\"X\"]), columns=X_y[\"X\"].columns)\n",
    "    X_train, X_test, y_train, y_test = train_test_split(X_y[\"X\"], X_y[\"y\"], test_size=0.2, random_state=42)\n",
    "    model_res = list()\n",
    "    for name, model in models.items():\n",
    "        mod = model\n",
    "        mod.fit(X_train, y_train)\n",
    "        y_pred = model.predict_proba(X_test)[:, 1]\n",
    "        auc_roc = roc_auc_score(y_test, y_pred)\n",
    "        model_res.append(auc_roc)\n",
    "        print(f\"Finished model {name} with dataset {data_name}, AUC_ROC: {auc_roc}\")\n",
    "    results.append(model_res)"
   ]
  }
 ],
 "metadata": {
  "kernelspec": {
   "display_name": ".venv",
   "language": "python",
   "name": "python3"
  },
  "language_info": {
   "codemirror_mode": {
    "name": "ipython",
    "version": 3
   },
   "file_extension": ".py",
   "mimetype": "text/x-python",
   "name": "python",
   "nbconvert_exporter": "python",
   "pygments_lexer": "ipython3",
   "version": "3.12.2"
  }
 },
 "nbformat": 4,
 "nbformat_minor": 2
}
