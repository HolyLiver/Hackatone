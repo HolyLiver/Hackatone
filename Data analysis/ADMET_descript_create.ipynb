current_dir = os.path.dirname(__file__)
relative_path = os.path.join(current_dir, '../Datasets/train_admet.csv')

with open(relative_path, 'r') as file:
    train_ = file.pd.read_csv()
train = train_.drop(["Unnamed: 0", "Drug_ID"], axis=1)
train.tail(3)
